{
  "nbformat": 4,
  "nbformat_minor": 0,
  "metadata": {
    "colab": {
      "name": "Stock price prediction with LSTM using PyTorch",
      "provenance": [],
      "collapsed_sections": []
    },
    "kernelspec": {
      "name": "python3",
      "display_name": "Python 3"
    },
    "accelerator": "GPU"
  },
  "cells": [
    {
      "cell_type": "code",
      "metadata": {
        "id": "wb-Z7wNKUJko",
        "colab": {
          "base_uri": "https://localhost:8080/"
        },
        "outputId": "20de4b47-1628-46b9-cbc7-43dfc1043046"
      },
      "source": [
        "import numpy as np\n",
        "import matplotlib.pyplot as plt\n",
        "import pandas as pd\n",
        "import torch\n",
        "import torch.nn as nn\n",
        "from torch.autograd import Variable\n",
        "from sklearn.preprocessing import MinMaxScaler\n",
        "\n",
        "!pip install yfinance\n",
        "\n",
        "import requests, io\n",
        "import pandas as pd\n",
        "\n",
        "url=\"https://pkgstore.datahub.io/core/nasdaq-listings/nasdaq-listed_csv/data/7665719fb51081ba0bd834fde71ce822/nasdaq-listed_csv.csv\"\n",
        "s = requests.get(url).content\n"
      ],
      "execution_count": 136,
      "outputs": [
        {
          "output_type": "stream",
          "text": [
            "Requirement already satisfied: yfinance in /usr/local/lib/python3.7/dist-packages (0.1.59)\n",
            "Requirement already satisfied: numpy>=1.15 in /usr/local/lib/python3.7/dist-packages (from yfinance) (1.19.5)\n",
            "Requirement already satisfied: lxml>=4.5.1 in /usr/local/lib/python3.7/dist-packages (from yfinance) (4.6.3)\n",
            "Requirement already satisfied: multitasking>=0.0.7 in /usr/local/lib/python3.7/dist-packages (from yfinance) (0.0.9)\n",
            "Requirement already satisfied: pandas>=0.24 in /usr/local/lib/python3.7/dist-packages (from yfinance) (1.1.5)\n",
            "Requirement already satisfied: requests>=2.20 in /usr/local/lib/python3.7/dist-packages (from yfinance) (2.23.0)\n",
            "Requirement already satisfied: pytz>=2017.2 in /usr/local/lib/python3.7/dist-packages (from pandas>=0.24->yfinance) (2018.9)\n",
            "Requirement already satisfied: python-dateutil>=2.7.3 in /usr/local/lib/python3.7/dist-packages (from pandas>=0.24->yfinance) (2.8.1)\n",
            "Requirement already satisfied: chardet<4,>=3.0.2 in /usr/local/lib/python3.7/dist-packages (from requests>=2.20->yfinance) (3.0.4)\n",
            "Requirement already satisfied: urllib3!=1.25.0,!=1.25.1,<1.26,>=1.21.1 in /usr/local/lib/python3.7/dist-packages (from requests>=2.20->yfinance) (1.24.3)\n",
            "Requirement already satisfied: idna<3,>=2.5 in /usr/local/lib/python3.7/dist-packages (from requests>=2.20->yfinance) (2.10)\n",
            "Requirement already satisfied: certifi>=2017.4.17 in /usr/local/lib/python3.7/dist-packages (from requests>=2.20->yfinance) (2020.12.5)\n",
            "Requirement already satisfied: six>=1.5 in /usr/local/lib/python3.7/dist-packages (from python-dateutil>=2.7.3->pandas>=0.24->yfinance) (1.15.0)\n"
          ],
          "name": "stdout"
        }
      ]
    },
    {
      "cell_type": "code",
      "metadata": {
        "colab": {
          "base_uri": "https://localhost:8080/",
          "height": 291
        },
        "id": "B2CKq-r5YvqC",
        "outputId": "429aeddb-2a58-4994-d8cd-e5827f40da19"
      },
      "source": [
        "companies = pd.read_csv(io.StringIO(s.decode('utf-8')))\n",
        "companies.head()"
      ],
      "execution_count": 137,
      "outputs": [
        {
          "output_type": "execute_result",
          "data": {
            "text/html": [
              "<div>\n",
              "<style scoped>\n",
              "    .dataframe tbody tr th:only-of-type {\n",
              "        vertical-align: middle;\n",
              "    }\n",
              "\n",
              "    .dataframe tbody tr th {\n",
              "        vertical-align: top;\n",
              "    }\n",
              "\n",
              "    .dataframe thead th {\n",
              "        text-align: right;\n",
              "    }\n",
              "</style>\n",
              "<table border=\"1\" class=\"dataframe\">\n",
              "  <thead>\n",
              "    <tr style=\"text-align: right;\">\n",
              "      <th></th>\n",
              "      <th>Symbol</th>\n",
              "      <th>Company Name</th>\n",
              "      <th>Security Name</th>\n",
              "      <th>Market Category</th>\n",
              "      <th>Test Issue</th>\n",
              "      <th>Financial Status</th>\n",
              "      <th>Round Lot Size</th>\n",
              "    </tr>\n",
              "  </thead>\n",
              "  <tbody>\n",
              "    <tr>\n",
              "      <th>0</th>\n",
              "      <td>AAIT</td>\n",
              "      <td>iShares MSCI All Country Asia Information Tech...</td>\n",
              "      <td>iShares MSCI All Country Asia Information Tech...</td>\n",
              "      <td>G</td>\n",
              "      <td>N</td>\n",
              "      <td>N</td>\n",
              "      <td>100.0</td>\n",
              "    </tr>\n",
              "    <tr>\n",
              "      <th>1</th>\n",
              "      <td>AAL</td>\n",
              "      <td>American Airlines Group, Inc.</td>\n",
              "      <td>American Airlines Group, Inc. - Common Stock</td>\n",
              "      <td>Q</td>\n",
              "      <td>N</td>\n",
              "      <td>N</td>\n",
              "      <td>100.0</td>\n",
              "    </tr>\n",
              "    <tr>\n",
              "      <th>2</th>\n",
              "      <td>AAME</td>\n",
              "      <td>Atlantic American Corporation</td>\n",
              "      <td>Atlantic American Corporation - Common Stock</td>\n",
              "      <td>G</td>\n",
              "      <td>N</td>\n",
              "      <td>N</td>\n",
              "      <td>100.0</td>\n",
              "    </tr>\n",
              "    <tr>\n",
              "      <th>3</th>\n",
              "      <td>AAOI</td>\n",
              "      <td>Applied Optoelectronics, Inc.</td>\n",
              "      <td>Applied Optoelectronics, Inc. - Common Stock</td>\n",
              "      <td>G</td>\n",
              "      <td>N</td>\n",
              "      <td>N</td>\n",
              "      <td>100.0</td>\n",
              "    </tr>\n",
              "    <tr>\n",
              "      <th>4</th>\n",
              "      <td>AAON</td>\n",
              "      <td>AAON, Inc.</td>\n",
              "      <td>AAON, Inc. - Common Stock</td>\n",
              "      <td>Q</td>\n",
              "      <td>N</td>\n",
              "      <td>N</td>\n",
              "      <td>100.0</td>\n",
              "    </tr>\n",
              "  </tbody>\n",
              "</table>\n",
              "</div>"
            ],
            "text/plain": [
              "  Symbol  ... Round Lot Size\n",
              "0   AAIT  ...          100.0\n",
              "1    AAL  ...          100.0\n",
              "2   AAME  ...          100.0\n",
              "3   AAOI  ...          100.0\n",
              "4   AAON  ...          100.0\n",
              "\n",
              "[5 rows x 7 columns]"
            ]
          },
          "metadata": {
            "tags": []
          },
          "execution_count": 137
        }
      ]
    },
    {
      "cell_type": "markdown",
      "metadata": {
        "id": "JigShnA4xMjR"
      },
      "source": [
        "Lookup Ticker symbol based on serach term:"
      ]
    },
    {
      "cell_type": "code",
      "metadata": {
        "colab": {
          "base_uri": "https://localhost:8080/"
        },
        "id": "iGb10zv5e4fx",
        "outputId": "bdacf23a-30da-4a95-f15c-136f3580a98b"
      },
      "source": [
        "search = 'Emerging'\n",
        "\n",
        "for i in companies['Security Name'].tolist():\n",
        "  if search in i: print(f\"{i} Symbol: {companies[i == companies['Security Name']].Symbol.tolist()[0]}\")"
      ],
      "execution_count": 198,
      "outputs": [
        {
          "output_type": "stream",
          "text": [
            "BLDRS Emerging Markets 50 ADR Index Fund Symbol: ADRE\n",
            "WisdomTree Emerging Markets Dividend Growth Fund Symbol: DGRE\n",
            "iShares MSCI Emerging Markets Asia Index Fund Symbol: EEMA\n",
            "iShares MSCI Emerging Markets EMEA Index Fund Symbol: EEME\n",
            "iShares MSCI Emerging Markets Latin America Index Fund Symbol: EEML\n",
            "iShares MSCI Emerging Markets Growth Index Fund Symbol: EGRW\n",
            "WisdomTree Emerging Markets Corporate Bond Fund Symbol: EMCB\n",
            "WisdomTree Emerging Markets Consumer Growth Fund Symbol: EMCG\n",
            "iShares MSCI Emerging Markets Consumer Discrectionary Sector Index Fund Symbol: EMDI\n",
            "iShares MSCI Emerging Markets Energy Sector Capped Index Fund Symbol: EMEY\n",
            "iShares S&P Emerging Markets Infrastructure Index Fund Symbol: EMIF\n",
            "iShares MSCI Emerging Markets Value Index Fund Symbol: EVAL\n",
            "First Trust Emerging Markets Local Currency Bond ETF Symbol: FEMB\n",
            "Vanguard Emerging Markets Government Bond ETF Symbol: VWOB\n"
          ],
          "name": "stdout"
        }
      ]
    },
    {
      "cell_type": "markdown",
      "metadata": {
        "id": "NabsV8O5BBd5"
      },
      "source": [
        "## Data loading\n",
        "https://finance.yahoo.com/"
      ]
    },
    {
      "cell_type": "code",
      "metadata": {
        "colab": {
          "base_uri": "https://localhost:8080/",
          "height": 336
        },
        "id": "Thsr7OdUsFrh",
        "outputId": "d3ac40b3-8ecc-407b-c691-ed1b715c6be3"
      },
      "source": [
        "import pandas as pd\n",
        "import yfinance as yf\n",
        "#from yahoofinancials import YahooFinancials\n",
        "\n",
        "#tsla_df = yf.download('TSLA', \n",
        "#                      start='2019-01-01', \n",
        "#                      #end='2021-06-12', \n",
        "#                      progress=False)\n",
        "\n",
        "yahoo_df = yf.download('BTC-USD')\n",
        "\n",
        "print(yahoo_df.shape)\n",
        "#yahoo_df.head()\n",
        "\n",
        "#ticker = yf.Ticker('TSLA')               # alternative to yf.download()\n",
        "#tsla_df = ticker.history(period=\"max\")\n",
        "yahoo_df['Close'].plot(title=\"Stock price\")"
      ],
      "execution_count": 215,
      "outputs": [
        {
          "output_type": "stream",
          "text": [
            "\r[*********************100%***********************]  1 of 1 completed\n",
            "(2457, 6)\n"
          ],
          "name": "stdout"
        },
        {
          "output_type": "execute_result",
          "data": {
            "text/plain": [
              "<matplotlib.axes._subplots.AxesSubplot at 0x7efe8a8dc890>"
            ]
          },
          "metadata": {
            "tags": []
          },
          "execution_count": 215
        },
        {
          "output_type": "display_data",
          "data": {
            "image/png": "[encoded data removed]",
            "text/plain": [
              "<Figure size 432x288 with 1 Axes>"
            ]
          },
          "metadata": {
            "tags": [],
            "needs_background": "light"
          }
        }
      ]
    },
    {
      "cell_type": "code",
      "metadata": {
        "id": "YVAucWjzadbu"
      },
      "source": [
        "training_set = yahoo_df['Close'].values.reshape(-1,1)"
      ],
      "execution_count": 216,
      "outputs": []
    },
    {
      "cell_type": "markdown",
      "metadata": {
        "id": "aKufMHxaxcgt"
      },
      "source": [
        "Create (X, y) pair for LSTM:"
      ]
    },
    {
      "cell_type": "code",
      "metadata": {
        "id": "vIWvJCpOVmwU"
      },
      "source": [
        "def sliding_windows(data, seq_length):\n",
        "    x = []\n",
        "    y = []\n",
        "    for i in range(len(data)-seq_length-1):\n",
        "        _x = data[i:(i+seq_length)]       # vector:  data_{i : i+tau}   'input/features'\n",
        "        _y = data[i+seq_length]           # scalar : data_{i+tau+1}     'target'\n",
        "        x.append(_x)\n",
        "        y.append(_y)\n",
        "\n",
        "    return np.array(x),np.array(y)\n",
        "\n",
        "sc = MinMaxScaler()\n",
        "training_data = sc.fit_transform(training_set)\n",
        "\n",
        "seq_length = 4\n",
        "x, y = sliding_windows(training_data, seq_length)"
      ],
      "execution_count": 217,
      "outputs": []
    },
    {
      "cell_type": "code",
      "metadata": {
        "id": "mbldZ3kjZwbq"
      },
      "source": [
        "train_size = int(len(y) * 0.8)\n",
        "test_size = len(y) - train_size\n",
        "\n",
        "dataX = Variable(torch.Tensor(np.array(x)))\n",
        "dataY = Variable(torch.Tensor(np.array(y)))\n",
        "\n",
        "trainX = Variable(torch.Tensor(np.array(x[0:train_size])))\n",
        "trainY = Variable(torch.Tensor(np.array(y[0:train_size])))\n",
        "\n",
        "testX = Variable(torch.Tensor(np.array(x[train_size:len(x)])))\n",
        "testY = Variable(torch.Tensor(np.array(y[train_size:len(y)])))"
      ],
      "execution_count": 218,
      "outputs": []
    },
    {
      "cell_type": "markdown",
      "metadata": {
        "id": "--1LVbHOBSIy"
      },
      "source": [
        "## Model\n",
        "\n",
        "https://pytorch.org/docs/stable/generated/torch.nn.LSTM.html"
      ]
    },
    {
      "cell_type": "code",
      "metadata": {
        "id": "_BcDEjcABRVz"
      },
      "source": [
        "class LSTM(nn.Module):\n",
        "\n",
        "    def __init__(self, num_classes, input_size, hidden_size, num_layers, dropout = 0):\n",
        "        super(LSTM, self).__init__()\n",
        "        \n",
        "        self.num_classes = num_classes\n",
        "        self.num_layers = num_layers\n",
        "        self.input_size = input_size\n",
        "        self.hidden_size = hidden_size\n",
        "        self.seq_length = seq_length\n",
        "        \n",
        "        self.lstm = nn.LSTM(input_size=input_size, hidden_size=hidden_size,\n",
        "                            num_layers=num_layers, batch_first=True, dropout = dropout)\n",
        "        \n",
        "        self.fc = nn.Linear(hidden_size, num_classes)\n",
        "\n",
        "    def forward(self, x):\n",
        "        h_0 = Variable(torch.zeros(\n",
        "            self.num_layers, x.size(0), self.hidden_size))\n",
        "        \n",
        "        c_0 = Variable(torch.zeros(\n",
        "            self.num_layers, x.size(0), self.hidden_size))\n",
        "        \n",
        "        # Propagate input through LSTM\n",
        "        ula, (h_out, _) = self.lstm(x, (h_0, c_0))\n",
        "        \n",
        "        h_out = h_out.view(-1, self.hidden_size)\n",
        "        \n",
        "        out = self.fc(h_out)\n",
        "        return out"
      ],
      "execution_count": 219,
      "outputs": []
    },
    {
      "cell_type": "markdown",
      "metadata": {
        "id": "tdzFI5GJBUF5"
      },
      "source": [
        "## Training"
      ]
    },
    {
      "cell_type": "code",
      "metadata": {
        "id": "a2vvHeFgVtCp",
        "colab": {
          "base_uri": "https://localhost:8080/"
        },
        "outputId": "72d61729-fa1c-452f-e961-8ebc8ba1247b"
      },
      "source": [
        "num_epochs = 2000\n",
        "learning_rate = 0.01\n",
        "\n",
        "input_size = 1\n",
        "hidden_size = 2\n",
        "num_layers = 1\n",
        "\n",
        "num_classes = 1\n",
        "\n",
        "lstm = LSTM(num_classes, input_size, hidden_size, num_layers, 0.)\n",
        "\n",
        "criterion = torch.nn.MSELoss()    # mean-squared error for regression\n",
        "optimizer = torch.optim.Adam(lstm.parameters(), lr=learning_rate)\n",
        "#optimizer = torch.optim.SGD(lstm.parameters(), lr=learning_rate)\n",
        "\n",
        "# Train the model\n",
        "for epoch in range(num_epochs):\n",
        "\n",
        "    outputs = lstm(trainX)   # make forward pass\n",
        "    optimizer.zero_grad()    # set gradient to zero\n",
        "    \n",
        "    # obtain the loss function\n",
        "    loss = criterion(outputs, trainY)   # evaluate MSE\n",
        "    \n",
        "    loss.backward()   # compute gradient\n",
        "    optimizer.step()   # make SGD parameter update\n",
        "\n",
        "    if epoch % 100 == 0:\n",
        "      print(\"Epoch: %d, loss: %1.5f\" % (epoch, loss.item()))"
      ],
      "execution_count": 220,
      "outputs": [
        {
          "output_type": "stream",
          "text": [
            "Epoch: 0, loss: 0.00600\n",
            "Epoch: 100, loss: 0.00004\n",
            "Epoch: 200, loss: 0.00004\n",
            "Epoch: 300, loss: 0.00003\n",
            "Epoch: 400, loss: 0.00003\n",
            "Epoch: 500, loss: 0.00003\n",
            "Epoch: 600, loss: 0.00003\n",
            "Epoch: 700, loss: 0.00003\n",
            "Epoch: 800, loss: 0.00003\n",
            "Epoch: 900, loss: 0.00003\n",
            "Epoch: 1000, loss: 0.00003\n",
            "Epoch: 1100, loss: 0.00003\n",
            "Epoch: 1200, loss: 0.00002\n",
            "Epoch: 1300, loss: 0.00002\n",
            "Epoch: 1400, loss: 0.00002\n",
            "Epoch: 1500, loss: 0.00002\n",
            "Epoch: 1600, loss: 0.00002\n",
            "Epoch: 1700, loss: 0.00002\n",
            "Epoch: 1800, loss: 0.00002\n",
            "Epoch: 1900, loss: 0.00002\n"
          ],
          "name": "stdout"
        }
      ]
    },
    {
      "cell_type": "markdown",
      "metadata": {
        "id": "35ndYIwIKteS"
      },
      "source": [
        "## Plot predictions"
      ]
    },
    {
      "cell_type": "code",
      "metadata": {
        "id": "CKEzO1jzKydL",
        "colab": {
          "base_uri": "https://localhost:8080/",
          "height": 294
        },
        "outputId": "17f9e084-023c-4043-bfc8-62ab28453fab"
      },
      "source": [
        "lstm.eval()\n",
        "train_predict = lstm(dataX)     # forward pass the whole data set\n",
        "\n",
        "data_predict = train_predict.data.numpy()\n",
        "dataY_plot = dataY.data.numpy()      # corresponding ground truth\n",
        "\n",
        "data_predict = sc.inverse_transform(data_predict)   # revert to original scale\n",
        "dataY_plot = sc.inverse_transform(dataY_plot)\n",
        "\n",
        "plt.axvline(x=train_size, c='r', linestyle='--')\n",
        "\n",
        "plt.plot(dataY_plot)\n",
        "plt.plot(data_predict)\n",
        "plt.suptitle('Stock price prediction')\n",
        "plt.show()"
      ],
      "execution_count": 221,
      "outputs": [
        {
          "output_type": "display_data",
          "data": {
            "image/png": "[encoded data removed]",
            "text/plain": [
              "<Figure size 432x288 with 1 Axes>"
            ]
          },
          "metadata": {
            "tags": [],
            "needs_background": "light"
          }
        }
      ]
    },
    {
      "cell_type": "code",
      "metadata": {
        "id": "t-yVHZpVZ8nU"
      },
      "source": [
        ""
      ],
      "execution_count": null,
      "outputs": []
    }
  ]
}